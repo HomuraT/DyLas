{
 "cells": [
  {
   "cell_type": "code",
   "execution_count": 1,
   "metadata": {},
   "outputs": [
    {
     "name": "stdout",
     "output_type": "stream",
     "text": [
      "Using device: cuda\n"
     ]
    }
   ],
   "source": [
    "import os\n",
    "os.environ['HF_ENDPOINT'] = 'https://hf-mirror.com'\n",
    "\n",
    "import torch\n",
    "from sentence_transformers import SentenceTransformer, util\n",
    "\n",
    "device = \"cuda\" if torch.cuda.is_available() else \"cpu\"\n",
    "print(f\"Using device: {device}\")\n",
    "PLM_name = \"BAAI/bge-m3\"\n",
    "PLM_name = 'all-MiniLM-L6-v2'\n",
    "model = SentenceTransformer(PLM_name, cache_folder='../../../huggingface_models/hub').to(device)"
   ]
  },
  {
   "cell_type": "code",
   "execution_count": 2,
   "metadata": {},
   "outputs": [],
   "source": [
    "import json"
   ]
  },
  {
   "cell_type": "code",
   "execution_count": 3,
   "metadata": {},
   "outputs": [],
   "source": [
    "id2information = json.load(open(f'./id2information.json', 'r', encoding='utf-8'))\n",
    "idx2id = {i:k for i, (k, v) in enumerate(id2information.items())}"
   ]
  },
  {
   "cell_type": "code",
   "execution_count": 4,
   "metadata": {},
   "outputs": [],
   "source": [
    "informations = []\n",
    "\n",
    "for k, v in id2information.items():\n",
    "    vv = {**v}\n",
    "    informations.append(str(vv))"
   ]
  },
  {
   "cell_type": "code",
   "execution_count": 5,
   "metadata": {},
   "outputs": [
    {
     "data": {
      "application/vnd.jupyter.widget-view+json": {
       "model_id": "7bed71e8e7db44df969eef35d7657764",
       "version_major": 2,
       "version_minor": 0
      },
      "text/plain": [
       "Batches:   0%|          | 0/468 [00:00<?, ?it/s]"
      ]
     },
     "metadata": {},
     "output_type": "display_data"
    }
   ],
   "source": [
    "informations_embeddings = (model.encode(informations, show_progress_bar=True, convert_to_tensor=True))"
   ]
  },
  {
   "cell_type": "code",
   "execution_count": 6,
   "metadata": {},
   "outputs": [],
   "source": [
    "torch.save({\n",
    "    'idx2id': idx2id,\n",
    "    'informations_embeddings': informations_embeddings.cpu()\n",
    "}, f'informations_embeddings_{\"bge\" if PLM_name==\"BAAI/bge-m3\" else \"MiniLM\"}.pt')"
   ]
  }
 ],
 "metadata": {
  "kernelspec": {
   "display_name": "torch1.11.0",
   "language": "python",
   "name": "torch1.11.0"
  },
  "language_info": {
   "codemirror_mode": {
    "name": "ipython",
    "version": 3
   },
   "file_extension": ".py",
   "mimetype": "text/x-python",
   "name": "python",
   "nbconvert_exporter": "python",
   "pygments_lexer": "ipython3",
   "version": "3.8.13"
  }
 },
 "nbformat": 4,
 "nbformat_minor": 4
}
