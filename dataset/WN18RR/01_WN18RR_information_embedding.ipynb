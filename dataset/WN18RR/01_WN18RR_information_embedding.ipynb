{
 "cells": [
  {
   "cell_type": "code",
   "execution_count": 1,
   "metadata": {},
   "outputs": [
    {
     "name": "stderr",
     "output_type": "stream",
     "text": [
      "/home/rl/conda/envs/LLM_Muti_Label/lib/python3.10/site-packages/tqdm/auto.py:21: TqdmWarning: IProgress not found. Please update jupyter and ipywidgets. See https://ipywidgets.readthedocs.io/en/stable/user_install.html\n",
      "  from .autonotebook import tqdm as notebook_tqdm\n"
     ]
    },
    {
     "name": "stdout",
     "output_type": "stream",
     "text": [
      "Using device: cuda\n"
     ]
    }
   ],
   "source": [
    "import os\n",
    "os.environ['HF_ENDPOINT'] = 'https://hf-mirror.com'\n",
    "\n",
    "import torch\n",
    "from sentence_transformers import SentenceTransformer, util\n",
    "\n",
    "# os.environ[\"TRANSFORMERS_CACHE\"] = \"./transformers_models\"\n",
    "device = \"cuda\" if torch.cuda.is_available() else \"cpu\"\n",
    "print(f\"Using device: {device}\")\n",
    "PLM_name = \"BAAI/bge-m3\"\n",
    "PLM_name = 'all-MiniLM-L6-v2'\n",
    "model = SentenceTransformer(PLM_name, cache_folder='../../../huggingface_models/hub').to(device)"
   ]
  },
  {
   "cell_type": "code",
   "execution_count": 2,
   "metadata": {},
   "outputs": [],
   "source": [
    "import json\n",
    "import sys\n",
    "sys.path.append('../../')\n",
    "from llm.utils.prompt_utils import Prompt_hepler\n",
    "\n",
    "ph = Prompt_hepler()\n",
    "prompts = {\n",
    "    'Objects': '<Object>{\"term\": \"{term}\", \"definition\": \"{definition}\", \"description\": \"{description}\"}</Object>',\n",
    "}\n",
    "\n",
    "prompt_id = 'Objects'\n",
    "prompt = prompts[prompt_id]"
   ]
  },
  {
   "cell_type": "code",
   "execution_count": 3,
   "metadata": {},
   "outputs": [],
   "source": [
    "id2information = json.load(open(f'./id2information.json', 'r', encoding='utf-8'))"
   ]
  },
  {
   "cell_type": "code",
   "execution_count": 4,
   "metadata": {},
   "outputs": [],
   "source": [
    "idx2id = {i:k for i, (k, v) in enumerate(id2information.items())}"
   ]
  },
  {
   "cell_type": "code",
   "execution_count": 5,
   "metadata": {},
   "outputs": [],
   "source": [
    "informations = []\n",
    "\n",
    "for k, v in id2information.items():\n",
    "    msg = ph.replace_with_dict(prompt, v, '{', '}')\n",
    "    informations.append(msg)"
   ]
  },
  {
   "cell_type": "code",
   "execution_count": 6,
   "metadata": {},
   "outputs": [
    {
     "name": "stderr",
     "output_type": "stream",
     "text": [
      "Batches: 100%|██████████| 1280/1280 [00:18<00:00, 70.30it/s]\n"
     ]
    }
   ],
   "source": [
    "informations_embeddings = (model.encode(informations, show_progress_bar=True, convert_to_tensor=True))"
   ]
  },
  {
   "cell_type": "code",
   "execution_count": 7,
   "metadata": {},
   "outputs": [],
   "source": [
    "torch.save({\n",
    "    'idx2id': idx2id,\n",
    "    'informations_embeddings': informations_embeddings.cpu()\n",
    "}, f'informations_embeddings_{\"bge\" if PLM_name==\"BAAI/bge-m3\" else \"MiniLM\"}.pt')"
   ]
  }
 ],
 "metadata": {
  "kernelspec": {
   "display_name": "LLM_Muti_Label",
   "language": "python",
   "name": "llm_muti_label"
  },
  "language_info": {
   "codemirror_mode": {
    "name": "ipython",
    "version": 3
   },
   "file_extension": ".py",
   "mimetype": "text/x-python",
   "name": "python",
   "nbconvert_exporter": "python",
   "pygments_lexer": "ipython3",
   "version": "3.10.4"
  }
 },
 "nbformat": 4,
 "nbformat_minor": 4
}
